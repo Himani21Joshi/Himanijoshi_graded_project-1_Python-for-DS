{
 "cells": [
  {
   "cell_type": "code",
   "execution_count": null,
   "id": "b0ae46ee",
   "metadata": {},
   "outputs": [],
   "source": [
    "import numpy as np\n",
    "import pandas as pd\n",
    "import seaborn as sns\n",
    "import matplotlib.pyplot as plt\n",
    "\n",
    "import warnings\n",
    "%matplotlib inline\n",
    "warnings.filterwarnings(action='ignore')"
   ]
  },
  {
   "cell_type": "code",
   "execution_count": null,
   "id": "c3c277dd",
   "metadata": {},
   "outputs": [],
   "source": [
    "## to view all the columns in the \n",
    "pd.set_option(\"display.max_columns\", None)"
   ]
  },
  {
   "cell_type": "code",
   "execution_count": null,
   "id": "b5250012",
   "metadata": {},
   "outputs": [],
   "source": [
    "df = pd.read_csv('fifa.csv')\n",
    "df.head()"
   ]
  },
  {
   "cell_type": "code",
   "execution_count": null,
   "id": "5814c2a7",
   "metadata": {},
   "outputs": [],
   "source": [
    "## loading the variable information csv file.\n",
    "data_info = pd.read_csv('fifa_ variable_information.csv')\n",
    "data_info.head()"
   ]
  },
  {
   "cell_type": "code",
   "execution_count": null,
   "id": "75922596",
   "metadata": {},
   "outputs": [],
   "source": [
    "## QUERY 2\n",
    "df[['Photo','Flag','Club Logo','Body Type','Jersey Number']].head(2)"
   ]
  },
  {
   "cell_type": "code",
   "execution_count": null,
   "id": "5715b3be",
   "metadata": {},
   "outputs": [],
   "source": [
    "## dropping the above five categorical columns, which are redundant for our analysis.\n",
    "df.drop(['Photo','Flag','Club Logo','Body Type','Jersey Number'],axis=1,inplace=True)"
   ]
  },
  {
   "cell_type": "code",
   "execution_count": null,
   "id": "7ac827e9",
   "metadata": {},
   "outputs": [],
   "source": [
    "df.shape"
   ]
  },
  {
   "cell_type": "code",
   "execution_count": null,
   "id": "4ba6b91e",
   "metadata": {},
   "outputs": [],
   "source": [
    "## QUERY 3\n",
    "## Just checking some samples.\n",
    "df[['Value','Wage','Release Clause']].sample(4)"
   ]
  },
  {
   "cell_type": "code",
   "execution_count": null,
   "id": "42b340c2",
   "metadata": {},
   "outputs": [],
   "source": [
    "## Writing a function to clean the data of columns \"Value\" and \"Wage\"\n",
    "def convert(entry):\n",
    "    \n",
    "    if entry==np.nan:\n",
    "        new_entry=float(0)\n",
    "    else:\n",
    "        entry=entry.replace('€','')\n",
    "        if entry[-1]=='K':\n",
    "            new_entry=float(entry.replace('K',''))*1000\n",
    "        else:\n",
    "            new_entry=float(entry.replace('M',''))*1000000\n",
    "    return new_entry"
   ]
  },
  {
   "cell_type": "code",
   "execution_count": null,
   "id": "3cc9e8a2",
   "metadata": {},
   "outputs": [],
   "source": [
    "## applying the above function to column 'Value'\n",
    "df['Value']= df['Value'].apply(lambda x : convert(x))\n",
    "\n",
    "## applying the above function to column 'Wage'\n",
    "df['Wage'] = df['Wage'].apply(lambda x: convert(x))\n",
    "\n",
    "## applying the above function to column 'Release Clause' \n",
    "df['Release Clause'] = df['Release Clause'].fillna('0').apply(lambda x: convert(x))"
   ]
  },
  {
   "cell_type": "code",
   "execution_count": null,
   "id": "01c1c224",
   "metadata": {},
   "outputs": [],
   "source": [
    "## Just checking some samples after cleaning the data.\n",
    "df[['Value','Wage','Release Clause']].sample(4)"
   ]
  },
  {
   "cell_type": "code",
   "execution_count": null,
   "id": "3c63831e",
   "metadata": {},
   "outputs": [],
   "source": [
    "## QUERY 4\n",
    "## just checking some samples\n",
    "df['Joined'].head()"
   ]
  },
  {
   "cell_type": "code",
   "execution_count": null,
   "id": "ce4a2f61",
   "metadata": {},
   "outputs": [],
   "source": [
    "## Keeping only year from the column 'Joined'\n",
    "## Filling null by 0 and converting it to integer\n",
    "df['Joined'] = df['Joined'].str.split().str.get(2).fillna(0).astype(int)"
   ]
  },
  {
   "cell_type": "code",
   "execution_count": null,
   "id": "57f61e28",
   "metadata": {},
   "outputs": [],
   "source": [
    "## just check some samples after cleaning.\n",
    "df['Joined'].head()"
   ]
  },
  {
   "cell_type": "code",
   "execution_count": null,
   "id": "744d140a",
   "metadata": {},
   "outputs": [],
   "source": [
    "## QUERY 5\n",
    "## checking the unique entries\n",
    "df['Contract Valid Until'].unique()"
   ]
  },
  {
   "cell_type": "code",
   "execution_count": null,
   "id": "f1686fa5",
   "metadata": {},
   "outputs": [],
   "source": [
    "## converting into pandas datetime format.\n",
    "df['Contract Valid Until'] = pd.to_datetime(df['Contract Valid Until'])"
   ]
  },
  {
   "cell_type": "code",
   "execution_count": null,
   "id": "c83aeace",
   "metadata": {},
   "outputs": [],
   "source": [
    "## checking the data after conversion.\n",
    "df['Contract Valid Until'].sample(5)"
   ]
  },
  {
   "cell_type": "code",
   "execution_count": null,
   "id": "89e9041e",
   "metadata": {},
   "outputs": [],
   "source": [
    "## QUERY 6\n",
    "df['Height'].head()"
   ]
  },
  {
   "cell_type": "code",
   "execution_count": null,
   "id": "c0633ab9",
   "metadata": {},
   "outputs": [],
   "source": [
    "## writing a function\n",
    "def height_convert(x):\n",
    "    if x is not None:\n",
    "        return float(str(x).replace(\"'\",'.'))"
   ]
  },
  {
   "cell_type": "code",
   "execution_count": null,
   "id": "54788b28",
   "metadata": {},
   "outputs": [],
   "source": [
    "## applying a function\n",
    "df['Height'] = df['Height'].apply(height_convert)"
   ]
  },
  {
   "cell_type": "code",
   "execution_count": null,
   "id": "2b63bb21",
   "metadata": {},
   "outputs": [],
   "source": [
    "df['Height'].head()"
   ]
  },
  {
   "cell_type": "code",
   "execution_count": null,
   "id": "e23c6c5b",
   "metadata": {},
   "outputs": [],
   "source": [
    "## QUERY 7\n",
    "df['Weight'].head()"
   ]
  },
  {
   "cell_type": "code",
   "execution_count": null,
   "id": "f8d17773",
   "metadata": {},
   "outputs": [],
   "source": [
    "df['Weight'] = df['Weight'].fillna('0').apply(lambda x: x.replace('lbs','')).astype(float)"
   ]
  },
  {
   "cell_type": "code",
   "execution_count": null,
   "id": "5e8aabcd",
   "metadata": {},
   "outputs": [],
   "source": [
    "df['Weight'].head()"
   ]
  },
  {
   "cell_type": "code",
   "execution_count": null,
   "id": "e8d3e56c",
   "metadata": {},
   "outputs": [],
   "source": [
    "## QUIERY 8\n",
    "df.isnull().sum()/len(df)*100"
   ]
  },
  {
   "cell_type": "code",
   "execution_count": null,
   "id": "0b1832f9",
   "metadata": {},
   "outputs": [],
   "source": [
    "## The column 'Loaned_from' has 93% of missing values, we will drop that column\n",
    "df.drop('Loaned From',axis=1,inplace=True)"
   ]
  },
  {
   "cell_type": "code",
   "execution_count": null,
   "id": "42615998",
   "metadata": {},
   "outputs": [],
   "source": [
    "missing_values = df.isnull().sum()/len(df)\n",
    "\n",
    "## These are the index of both categorical columns as well as numerical columns having null values.\n",
    "index = [i  for i in missing_values[missing_values>0].index]\n",
    "\n",
    "## separating numerical columns and categorical columns\n",
    "numerical_columns = [i     for i in index      if i in df.columns and  df[i].dtype!=object]\n",
    "categorical_columns = [i     for i in index      if i in df.columns and  df[i].dtype==object]\n",
    "\n",
    "## Filling the null values of the numerical columns with median computation.\n",
    "for columns in numerical_columns:\n",
    "    df[columns]=df[columns].fillna(df[columns].median())\n",
    "    \n",
    "## Filling the null values of the categorical columns with mode computation.\n",
    "for columns in categorical_columns:\n",
    "    df[columns]=df[columns].fillna(df[columns].mode()[0])"
   ]
  },
  {
   "cell_type": "code",
   "execution_count": null,
   "id": "951c6fe2",
   "metadata": {},
   "outputs": [],
   "source": [
    "df.isnull().sum()"
   ]
  },
  {
   "cell_type": "code",
   "execution_count": null,
   "id": "8e6df628",
   "metadata": {},
   "outputs": [],
   "source": [
    "## QUERY 9\n",
    "sns.distplot(df['Overall'])\n",
    "plt.show()"
   ]
  },
  {
   "cell_type": "code",
   "execution_count": null,
   "id": "6052ead0",
   "metadata": {},
   "outputs": [],
   "source": [
    "## QUERY 10\n",
    "top20_players = df.groupby('Name')['Overall'].max().sort_values(ascending=False).head(20)\n",
    "top20_players"
   ]
  },
  {
   "cell_type": "code",
   "execution_count": null,
   "id": "b2201cdc",
   "metadata": {},
   "outputs": [],
   "source": [
    "## QUERY 11\n",
    "Top20_df = df[ (df['Name'].isin(top20_players.index)) & (df['Overall'].isin(top20_players.values)) ]\n",
    "Top20_df.head()"
   ]
  },
  {
   "cell_type": "code",
   "execution_count": null,
   "id": "95698357",
   "metadata": {},
   "outputs": [],
   "source": [
    "## QUERY 12\n",
    "Top20_df[['Age','Wage']].mean()"
   ]
  },
  {
   "cell_type": "code",
   "execution_count": null,
   "id": "673162f4",
   "metadata": {},
   "outputs": [],
   "source": [
    "## QUERY 13\n",
    "Top20_df[Top20_df['Wage']==Top20_df['Wage'].max()][['Name','Wage']]"
   ]
  },
  {
   "cell_type": "code",
   "execution_count": null,
   "id": "1896f568",
   "metadata": {},
   "outputs": [],
   "source": [
    "## QUERY 14\n",
    "## creating a dataframe\n",
    "df_14 = df[['Name','Club','Wage','Overall']]\n",
    "df_14.head(2)"
   ]
  },
  {
   "cell_type": "code",
   "execution_count": null,
   "id": "7133b44c",
   "metadata": {},
   "outputs": [],
   "source": [
    "## Finding the average overall rating for each club\n",
    "df_14.groupby('Club')['Overall'].mean()"
   ]
  },
  {
   "cell_type": "code",
   "execution_count": null,
   "id": "06c8271a",
   "metadata": {},
   "outputs": [],
   "source": [
    "## Displaying the average overall rating of Top10 Clubs using a bar plot\n",
    "df_14.groupby('Club')['Overall'].mean().sort_values(ascending=False).head(10).plot(kind='bar')\n",
    "plt.show()"
   ]
  },
  {
   "cell_type": "code",
   "execution_count": null,
   "id": "c1855944",
   "metadata": {},
   "outputs": [],
   "source": [
    "## QUERY 15\n",
    "plt.figure(figsize=(18,5))\n",
    "sns.boxplot(df['Age'],df['Potential'])\n",
    "plt.show()"
   ]
  },
  {
   "cell_type": "code",
   "execution_count": null,
   "id": "3e2d160c",
   "metadata": {},
   "outputs": [],
   "source": [
    "## QUERY 16\n",
    "imp_features = df[['Potential','Overall','Value','International Reputation','Release Clause','Wage', ]]\n",
    "\n",
    "sns.heatmap(imp_features.corr(),annot=True,cmap='viridis')\n",
    "plt.show()"
   ]
  },
  {
   "cell_type": "code",
   "execution_count": null,
   "id": "8a5ad048",
   "metadata": {},
   "outputs": [],
   "source": [
    "sns.pairplot(imp_features)\n",
    "plt.show()"
   ]
  },
  {
   "cell_type": "code",
   "execution_count": null,
   "id": "6303cb67",
   "metadata": {},
   "outputs": [],
   "source": [
    "## QUERY 17\n",
    "df['Position'].value_counts().sort_values(ascending=False).head(1)"
   ]
  },
  {
   "cell_type": "code",
   "execution_count": null,
   "id": "09236d55",
   "metadata": {},
   "outputs": [],
   "source": [
    "df['Position'].value_counts().sort_values(ascending=True).head(1)"
   ]
  },
  {
   "cell_type": "code",
   "execution_count": null,
   "id": "f9400409",
   "metadata": {},
   "outputs": [],
   "source": [
    "plt.figure(figsize=(18,5))\n",
    "sns.histplot(df['Position'])\n",
    "plt.show()"
   ]
  },
  {
   "cell_type": "code",
   "execution_count": null,
   "id": "07f22b7e",
   "metadata": {},
   "outputs": [],
   "source": [
    "## QUERY 18\n",
    "df[(df['Club']=='Juventus') & (df['Wage']>200000)]"
   ]
  },
  {
   "cell_type": "code",
   "execution_count": null,
   "id": "e7c7c4b4",
   "metadata": {},
   "outputs": [],
   "source": [
    "## QUERY 19\n",
    "top5 = df.groupby(['Position']).apply(lambda x : x.sort_values('Overall',ascending=False).head(5))\n",
    "top5.head(10)"
   ]
  },
  {
   "cell_type": "code",
   "execution_count": null,
   "id": "54105c4a",
   "metadata": {},
   "outputs": [],
   "source": [
    "## QUERY 20\n",
    "top5['Wage'].groupby('Position').mean()"
   ]
  }
 ],
 "metadata": {
  "kernelspec": {
   "display_name": "Python 3 (ipykernel)",
   "language": "python",
   "name": "python3"
  },
  "language_info": {
   "codemirror_mode": {
    "name": "ipython",
    "version": 3
   },
   "file_extension": ".py",
   "mimetype": "text/x-python",
   "name": "python",
   "nbconvert_exporter": "python",
   "pygments_lexer": "ipython3",
   "version": "3.9.13"
  }
 },
 "nbformat": 4,
 "nbformat_minor": 5
}
